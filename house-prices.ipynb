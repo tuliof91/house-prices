{
 "cells": [
  {
   "cell_type": "markdown",
   "id": "a3215bf0-3c7e-4479-bc38-c330a7dd8abf",
   "metadata": {},
   "source": [
    "<h1>House Prices</h1>\n",
    "<h2>A linear regression aproach<h1"
   ]
  },
  {
   "cell_type": "markdown",
   "id": "51d87c2e-7164-4497-8bec-a167d1bf77df",
   "metadata": {},
   "source": [
    "<h1>EDA</h1>"
   ]
  },
  {
   "cell_type": "code",
   "execution_count": 1,
   "id": "4551fee1-dacd-4c0a-a182-5c92ef1e5227",
   "metadata": {},
   "outputs": [],
   "source": [
    "# import libraries\n",
    "import pandas as pd\n",
    "import matplotlib.pyplot as plt\n",
    "import seaborn as sns\n",
    "import numpy as np\n",
    "from scipy.stats import norm\n",
    "import sklearn\n",
    "import warnings\n",
    "warnings.filterwarnings('ignore')\n",
    "%matplotlib inline"
   ]
  },
  {
   "cell_type": "code",
   "execution_count": 2,
   "id": "44efb03b-0519-4287-9a22-035398d8b3c5",
   "metadata": {},
   "outputs": [],
   "source": [
    "# import data\n",
    "df = pd.read_csv(\"./data/house_prices.csv\")"
   ]
  },
  {
   "cell_type": "code",
   "execution_count": 3,
   "id": "4c6140be-3af5-44ab-932a-559516b2de40",
   "metadata": {},
   "outputs": [],
   "source": [
    "# Normalize column names\n",
    "df.columns = df.columns.str.lower().str.replace(' ', '_')\n",
    "# Select only columns with string values\n",
    "string_columns = list(df.dtypes[df.dtypes == 'object'].index)\n",
    "# Lowercase and replace spaces with underscores for values in all string\n",
    "# columns of the DataFrame\n",
    "for col in string_columns:\n",
    "    df[col] = df[col].str.lower().str.replace(' ', '_')"
   ]
  },
  {
   "cell_type": "code",
   "execution_count": 8,
   "id": "9c6ed534-4d35-4603-9d68-5d5bea1e7979",
   "metadata": {},
   "outputs": [],
   "source": [
    "# train, test split\n",
    "\n",
    "from sklearn.model_selection import train_test_split\n",
    "X_train, X_test, y_train, y_test = train_test_split((df.drop('saleprice', axis=1)), df['saleprice'], test_size=0.33, random_state=42)"
   ]
  },
  {
   "cell_type": "code",
   "execution_count": 12,
   "id": "7fcf46d8-726b-43fa-9d86-12f99ba9796b",
   "metadata": {},
   "outputs": [
    {
     "name": "stdout",
     "output_type": "stream",
     "text": [
      "<class 'pandas.core.frame.DataFrame'>\n",
      "Int64Index: 978 entries, 615 to 1126\n",
      "Data columns (total 80 columns):\n",
      " #   Column         Non-Null Count  Dtype  \n",
      "---  ------         --------------  -----  \n",
      " 0   id             978 non-null    int64  \n",
      " 1   mssubclass     978 non-null    int64  \n",
      " 2   mszoning       978 non-null    object \n",
      " 3   lotfrontage    795 non-null    float64\n",
      " 4   lotarea        978 non-null    int64  \n",
      " 5   street         978 non-null    object \n",
      " 6   alley          63 non-null     object \n",
      " 7   lotshape       978 non-null    object \n",
      " 8   landcontour    978 non-null    object \n",
      " 9   utilities      978 non-null    object \n",
      " 10  lotconfig      978 non-null    object \n",
      " 11  landslope      978 non-null    object \n",
      " 12  neighborhood   978 non-null    object \n",
      " 13  condition1     978 non-null    object \n",
      " 14  condition2     978 non-null    object \n",
      " 15  bldgtype       978 non-null    object \n",
      " 16  housestyle     978 non-null    object \n",
      " 17  overallqual    978 non-null    int64  \n",
      " 18  overallcond    978 non-null    int64  \n",
      " 19  yearbuilt      978 non-null    int64  \n",
      " 20  yearremodadd   978 non-null    int64  \n",
      " 21  roofstyle      978 non-null    object \n",
      " 22  roofmatl       978 non-null    object \n",
      " 23  exterior1st    978 non-null    object \n",
      " 24  exterior2nd    978 non-null    object \n",
      " 25  masvnrtype     976 non-null    object \n",
      " 26  masvnrarea     976 non-null    float64\n",
      " 27  exterqual      978 non-null    object \n",
      " 28  extercond      978 non-null    object \n",
      " 29  foundation     978 non-null    object \n",
      " 30  bsmtqual       953 non-null    object \n",
      " 31  bsmtcond       953 non-null    object \n",
      " 32  bsmtexposure   953 non-null    object \n",
      " 33  bsmtfintype1   953 non-null    object \n",
      " 34  bsmtfinsf1     978 non-null    int64  \n",
      " 35  bsmtfintype2   953 non-null    object \n",
      " 36  bsmtfinsf2     978 non-null    int64  \n",
      " 37  bsmtunfsf      978 non-null    int64  \n",
      " 38  totalbsmtsf    978 non-null    int64  \n",
      " 39  heating        978 non-null    object \n",
      " 40  heatingqc      978 non-null    object \n",
      " 41  centralair     978 non-null    object \n",
      " 42  electrical     977 non-null    object \n",
      " 43  1stflrsf       978 non-null    int64  \n",
      " 44  2ndflrsf       978 non-null    int64  \n",
      " 45  lowqualfinsf   978 non-null    int64  \n",
      " 46  grlivarea      978 non-null    int64  \n",
      " 47  bsmtfullbath   978 non-null    int64  \n",
      " 48  bsmthalfbath   978 non-null    int64  \n",
      " 49  fullbath       978 non-null    int64  \n",
      " 50  halfbath       978 non-null    int64  \n",
      " 51  bedroomabvgr   978 non-null    int64  \n",
      " 52  kitchenabvgr   978 non-null    int64  \n",
      " 53  kitchenqual    978 non-null    object \n",
      " 54  totrmsabvgrd   978 non-null    int64  \n",
      " 55  functional     978 non-null    object \n",
      " 56  fireplaces     978 non-null    int64  \n",
      " 57  fireplacequ    511 non-null    object \n",
      " 58  garagetype     925 non-null    object \n",
      " 59  garageyrblt    925 non-null    float64\n",
      " 60  garagefinish   925 non-null    object \n",
      " 61  garagecars     978 non-null    int64  \n",
      " 62  garagearea     978 non-null    int64  \n",
      " 63  garagequal     925 non-null    object \n",
      " 64  garagecond     925 non-null    object \n",
      " 65  paveddrive     978 non-null    object \n",
      " 66  wooddecksf     978 non-null    int64  \n",
      " 67  openporchsf    978 non-null    int64  \n",
      " 68  enclosedporch  978 non-null    int64  \n",
      " 69  3ssnporch      978 non-null    int64  \n",
      " 70  screenporch    978 non-null    int64  \n",
      " 71  poolarea       978 non-null    int64  \n",
      " 72  poolqc         4 non-null      object \n",
      " 73  fence          191 non-null    object \n",
      " 74  miscfeature    39 non-null     object \n",
      " 75  miscval        978 non-null    int64  \n",
      " 76  mosold         978 non-null    int64  \n",
      " 77  yrsold         978 non-null    int64  \n",
      " 78  saletype       978 non-null    object \n",
      " 79  salecondition  978 non-null    object \n",
      "dtypes: float64(3), int64(34), object(43)\n",
      "memory usage: 618.9+ KB\n"
     ]
    }
   ],
   "source": [
    "X_train.info()"
   ]
  },
  {
   "cell_type": "code",
   "execution_count": null,
   "id": "77209b9b-b2c8-4f4c-8260-aace31316212",
   "metadata": {},
   "outputs": [],
   "source": []
  }
 ],
 "metadata": {
  "kernelspec": {
   "display_name": "Python 3 (ipykernel)",
   "language": "python",
   "name": "python3"
  },
  "language_info": {
   "codemirror_mode": {
    "name": "ipython",
    "version": 3
   },
   "file_extension": ".py",
   "mimetype": "text/x-python",
   "name": "python",
   "nbconvert_exporter": "python",
   "pygments_lexer": "ipython3",
   "version": "3.8.8"
  }
 },
 "nbformat": 4,
 "nbformat_minor": 5
}
